{
 "cells": [
  {
   "cell_type": "code",
   "execution_count": 1,
   "id": "fbfbb537-706b-4ad2-af24-111bbb2273ba",
   "metadata": {},
   "outputs": [],
   "source": [
    "# Artificial Neural Network"
   ]
  },
  {
   "cell_type": "code",
   "execution_count": 2,
   "id": "66f20b0c-f556-47f7-a8bf-b65d015dcc1d",
   "metadata": {},
   "outputs": [],
   "source": [
    "# Part 1 - Data Preprocessing\n",
    "\n",
    "# Importing the libraries\n",
    "import numpy as np\n",
    "import matplotlib.pyplot as plt\n",
    "import pandas as pd"
   ]
  },
  {
   "cell_type": "code",
   "execution_count": 3,
   "id": "7b79e836-58ed-45ab-a14f-84796a2d9ffd",
   "metadata": {},
   "outputs": [],
   "source": [
    "# Importing the dataset\n",
    "dataset = pd.read_csv('Churn_Modelling.csv')\n",
    "X = dataset.iloc[:, 3:13]\n",
    "y = dataset.iloc[:, 13]"
   ]
  },
  {
   "cell_type": "code",
   "execution_count": 4,
   "id": "fdd3bfa9-c3ad-4744-a77c-322704865311",
   "metadata": {},
   "outputs": [],
   "source": [
    "#Create dummy variables\n",
    "geography=pd.get_dummies(X[\"Geography\"],drop_first=True)\n",
    "gender=pd.get_dummies(X['Gender'],drop_first=True)\n",
    "\n",
    "## Concatenate the Data Frames\n",
    "\n",
    "X=pd.concat([X,geography,gender],axis=1)\n",
    "\n",
    "## Drop Unnecessary columns\n",
    "X=X.drop(['Geography','Gender'],axis=1)"
   ]
  },
  {
   "cell_type": "code",
   "execution_count": 5,
   "id": "810733f8-20fe-41c6-be32-d753d7abf6ff",
   "metadata": {},
   "outputs": [],
   "source": [
    "# Splitting the dataset into the Training set and Test set\n",
    "from sklearn.model_selection import train_test_split\n",
    "X_train, X_test, y_train, y_test = train_test_split(X, y, test_size = 0.2, random_state = 0)"
   ]
  },
  {
   "cell_type": "code",
   "execution_count": 6,
   "id": "5f9d4a9a-2f70-4583-8655-7a0b8825481d",
   "metadata": {},
   "outputs": [],
   "source": [
    "# Feature Scaling\n",
    "from sklearn.preprocessing import StandardScaler\n",
    "sc = StandardScaler()\n",
    "X_train = sc.fit_transform(X_train)\n",
    "X_test = sc.transform(X_test)"
   ]
  },
  {
   "cell_type": "code",
   "execution_count": 11,
   "id": "80e40b3f-fe0e-4b1a-893d-f764e99c177a",
   "metadata": {},
   "outputs": [],
   "source": [
    "# Part 2 - Now let's make the ANN!\n",
    "\n",
    "# Importing the Keras libraries and packages\n",
    "import keras\n",
    "from keras.models import Sequential\n",
    "from keras.layers import Dense\n",
    "from keras.layers import LeakyReLU,PReLU,ELU\n",
    "from keras.layers import Dropout\n"
   ]
  },
  {
   "cell_type": "code",
   "execution_count": 17,
   "id": "0ae1f649-ce2e-4a44-b5f1-d112d4a43d01",
   "metadata": {},
   "outputs": [],
   "source": [
    "# Initialising the ANN\n",
    "classifier = Sequential()\n",
    "\n",
    "# Adding the input layer and the first hidden layer\n",
    "classifier.add(Dense(units = 6, kernel_initializer= 'he_uniform',activation='relu',input_dim = 11))\n",
    "\n",
    "# Adding the second hidden layer\n",
    "classifier.add(Dense(units = 6, kernel_initializer= 'he_uniform',activation='relu'))\n",
    "# Adding the output layer\n",
    "classifier.add(Dense(units = 1, kernel_initializer= 'glorot_uniform', activation = 'sigmoid'))\n",
    "\n",
    "# Compiling the ANN\n",
    "classifier.compile(optimizer = 'Adamax', loss = 'binary_crossentropy', metrics = ['accuracy'])"
   ]
  },
  {
   "cell_type": "code",
   "execution_count": 19,
   "id": "a6651887-2294-4b18-a4da-f6c1382dd8ad",
   "metadata": {},
   "outputs": [
    {
     "name": "stdout",
     "output_type": "stream",
     "text": [
      "Epoch 1/100\n",
      "536/536 [==============================] - 2s 2ms/step - loss: 0.5659 - accuracy: 0.7380 - val_loss: 0.5054 - val_accuracy: 0.7955\n",
      "Epoch 2/100\n",
      "536/536 [==============================] - 1s 2ms/step - loss: 0.4836 - accuracy: 0.7962 - val_loss: 0.4838 - val_accuracy: 0.7955\n",
      "Epoch 3/100\n",
      "536/536 [==============================] - 1s 2ms/step - loss: 0.4705 - accuracy: 0.7962 - val_loss: 0.4764 - val_accuracy: 0.7955\n",
      "Epoch 4/100\n",
      "536/536 [==============================] - 1s 2ms/step - loss: 0.4636 - accuracy: 0.7962 - val_loss: 0.4703 - val_accuracy: 0.7955\n",
      "Epoch 5/100\n",
      "536/536 [==============================] - 1s 2ms/step - loss: 0.4579 - accuracy: 0.7962 - val_loss: 0.4654 - val_accuracy: 0.7955\n",
      "Epoch 6/100\n",
      "536/536 [==============================] - 2s 3ms/step - loss: 0.4533 - accuracy: 0.7962 - val_loss: 0.4618 - val_accuracy: 0.7955\n",
      "Epoch 7/100\n",
      "536/536 [==============================] - 2s 3ms/step - loss: 0.4495 - accuracy: 0.7962 - val_loss: 0.4586 - val_accuracy: 0.7955\n",
      "Epoch 8/100\n",
      "536/536 [==============================] - 1s 2ms/step - loss: 0.4463 - accuracy: 0.7962 - val_loss: 0.4559 - val_accuracy: 0.7955\n",
      "Epoch 9/100\n",
      "536/536 [==============================] - 1s 3ms/step - loss: 0.4436 - accuracy: 0.7962 - val_loss: 0.4535 - val_accuracy: 0.7955\n",
      "Epoch 10/100\n",
      "536/536 [==============================] - 2s 3ms/step - loss: 0.4410 - accuracy: 0.7962 - val_loss: 0.4512 - val_accuracy: 0.7955\n",
      "Epoch 11/100\n",
      "536/536 [==============================] - 1s 2ms/step - loss: 0.4387 - accuracy: 0.7962 - val_loss: 0.4494 - val_accuracy: 0.7955\n",
      "Epoch 12/100\n",
      "536/536 [==============================] - 1s 3ms/step - loss: 0.4366 - accuracy: 0.7962 - val_loss: 0.4477 - val_accuracy: 0.7955\n",
      "Epoch 13/100\n",
      "536/536 [==============================] - 1s 3ms/step - loss: 0.4348 - accuracy: 0.7962 - val_loss: 0.4462 - val_accuracy: 0.7955\n",
      "Epoch 14/100\n",
      "536/536 [==============================] - 1s 2ms/step - loss: 0.4331 - accuracy: 0.7964 - val_loss: 0.4449 - val_accuracy: 0.7955\n",
      "Epoch 15/100\n",
      "536/536 [==============================] - 2s 3ms/step - loss: 0.4314 - accuracy: 0.7970 - val_loss: 0.4436 - val_accuracy: 0.7959\n",
      "Epoch 16/100\n",
      "536/536 [==============================] - 1s 3ms/step - loss: 0.4299 - accuracy: 0.7974 - val_loss: 0.4422 - val_accuracy: 0.7967\n",
      "Epoch 17/100\n",
      "536/536 [==============================] - 1s 3ms/step - loss: 0.4284 - accuracy: 0.7975 - val_loss: 0.4409 - val_accuracy: 0.7974\n",
      "Epoch 18/100\n",
      "536/536 [==============================] - 2s 4ms/step - loss: 0.4268 - accuracy: 0.7979 - val_loss: 0.4395 - val_accuracy: 0.7963\n",
      "Epoch 19/100\n",
      "536/536 [==============================] - 2s 3ms/step - loss: 0.4252 - accuracy: 0.7977 - val_loss: 0.4382 - val_accuracy: 0.7970\n",
      "Epoch 20/100\n",
      "536/536 [==============================] - 2s 3ms/step - loss: 0.4236 - accuracy: 0.7979 - val_loss: 0.4370 - val_accuracy: 0.7974\n",
      "Epoch 21/100\n",
      "536/536 [==============================] - 2s 3ms/step - loss: 0.4220 - accuracy: 0.7985 - val_loss: 0.4355 - val_accuracy: 0.7952\n",
      "Epoch 22/100\n",
      "536/536 [==============================] - 2s 3ms/step - loss: 0.4200 - accuracy: 0.7994 - val_loss: 0.4340 - val_accuracy: 0.7967\n",
      "Epoch 23/100\n",
      "536/536 [==============================] - 2s 3ms/step - loss: 0.4183 - accuracy: 0.8024 - val_loss: 0.4327 - val_accuracy: 0.7967\n",
      "Epoch 24/100\n",
      "536/536 [==============================] - 2s 3ms/step - loss: 0.4168 - accuracy: 0.8057 - val_loss: 0.4314 - val_accuracy: 0.7970\n",
      "Epoch 25/100\n",
      "536/536 [==============================] - 2s 3ms/step - loss: 0.4153 - accuracy: 0.8082 - val_loss: 0.4301 - val_accuracy: 0.7974\n",
      "Epoch 26/100\n",
      "536/536 [==============================] - 2s 4ms/step - loss: 0.4137 - accuracy: 0.8072 - val_loss: 0.4287 - val_accuracy: 0.7963\n",
      "Epoch 27/100\n",
      "536/536 [==============================] - 2s 3ms/step - loss: 0.4121 - accuracy: 0.8102 - val_loss: 0.4274 - val_accuracy: 0.7974\n",
      "Epoch 28/100\n",
      "536/536 [==============================] - 2s 3ms/step - loss: 0.4104 - accuracy: 0.8108 - val_loss: 0.4260 - val_accuracy: 0.7993\n",
      "Epoch 29/100\n",
      "536/536 [==============================] - 2s 3ms/step - loss: 0.4088 - accuracy: 0.8119 - val_loss: 0.4245 - val_accuracy: 0.8005\n",
      "Epoch 30/100\n",
      "536/536 [==============================] - 2s 3ms/step - loss: 0.4072 - accuracy: 0.8113 - val_loss: 0.4232 - val_accuracy: 0.7986\n",
      "Epoch 31/100\n",
      "536/536 [==============================] - 2s 4ms/step - loss: 0.4057 - accuracy: 0.8153 - val_loss: 0.4217 - val_accuracy: 0.7993\n",
      "Epoch 32/100\n",
      "536/536 [==============================] - 2s 3ms/step - loss: 0.4042 - accuracy: 0.8147 - val_loss: 0.4205 - val_accuracy: 0.7989\n",
      "Epoch 33/100\n",
      "536/536 [==============================] - 2s 3ms/step - loss: 0.4028 - accuracy: 0.8184 - val_loss: 0.4194 - val_accuracy: 0.8005\n",
      "Epoch 34/100\n",
      "536/536 [==============================] - 1s 3ms/step - loss: 0.4014 - accuracy: 0.8194 - val_loss: 0.4180 - val_accuracy: 0.8012\n",
      "Epoch 35/100\n",
      "536/536 [==============================] - 1s 3ms/step - loss: 0.4000 - accuracy: 0.8199 - val_loss: 0.4167 - val_accuracy: 0.8046\n",
      "Epoch 36/100\n",
      "536/536 [==============================] - 1s 3ms/step - loss: 0.3984 - accuracy: 0.8201 - val_loss: 0.4153 - val_accuracy: 0.8061\n",
      "Epoch 37/100\n",
      "536/536 [==============================] - 2s 3ms/step - loss: 0.3969 - accuracy: 0.8197 - val_loss: 0.4136 - val_accuracy: 0.8073\n",
      "Epoch 38/100\n",
      "536/536 [==============================] - 1s 3ms/step - loss: 0.3953 - accuracy: 0.8227 - val_loss: 0.4120 - val_accuracy: 0.8092\n",
      "Epoch 39/100\n",
      "536/536 [==============================] - 2s 3ms/step - loss: 0.3935 - accuracy: 0.8229 - val_loss: 0.4104 - val_accuracy: 0.8129\n",
      "Epoch 40/100\n",
      "536/536 [==============================] - 2s 3ms/step - loss: 0.3917 - accuracy: 0.8235 - val_loss: 0.4089 - val_accuracy: 0.8152\n",
      "Epoch 41/100\n",
      "536/536 [==============================] - 1s 2ms/step - loss: 0.3900 - accuracy: 0.8250 - val_loss: 0.4074 - val_accuracy: 0.8156\n",
      "Epoch 42/100\n",
      "536/536 [==============================] - 2s 3ms/step - loss: 0.3882 - accuracy: 0.8259 - val_loss: 0.4059 - val_accuracy: 0.8126\n",
      "Epoch 43/100\n",
      "536/536 [==============================] - 1s 3ms/step - loss: 0.3863 - accuracy: 0.8266 - val_loss: 0.4044 - val_accuracy: 0.8126\n",
      "Epoch 44/100\n",
      "536/536 [==============================] - 1s 3ms/step - loss: 0.3845 - accuracy: 0.8296 - val_loss: 0.4029 - val_accuracy: 0.8137\n",
      "Epoch 45/100\n",
      "536/536 [==============================] - 2s 4ms/step - loss: 0.3826 - accuracy: 0.8309 - val_loss: 0.4014 - val_accuracy: 0.8160\n",
      "Epoch 46/100\n",
      "536/536 [==============================] - 2s 4ms/step - loss: 0.3807 - accuracy: 0.8315 - val_loss: 0.3997 - val_accuracy: 0.8152\n",
      "Epoch 47/100\n",
      "536/536 [==============================] - 2s 3ms/step - loss: 0.3787 - accuracy: 0.8337 - val_loss: 0.3975 - val_accuracy: 0.8167\n",
      "Epoch 48/100\n",
      "536/536 [==============================] - 1s 3ms/step - loss: 0.3769 - accuracy: 0.8345 - val_loss: 0.3957 - val_accuracy: 0.8179\n",
      "Epoch 49/100\n",
      "536/536 [==============================] - 1s 3ms/step - loss: 0.3752 - accuracy: 0.8373 - val_loss: 0.3938 - val_accuracy: 0.8183\n",
      "Epoch 50/100\n",
      "536/536 [==============================] - 1s 3ms/step - loss: 0.3732 - accuracy: 0.8393 - val_loss: 0.3924 - val_accuracy: 0.8198\n",
      "Epoch 51/100\n",
      "536/536 [==============================] - 1s 3ms/step - loss: 0.3718 - accuracy: 0.8412 - val_loss: 0.3905 - val_accuracy: 0.8220\n",
      "Epoch 52/100\n",
      "536/536 [==============================] - 2s 3ms/step - loss: 0.3701 - accuracy: 0.8406 - val_loss: 0.3891 - val_accuracy: 0.8236\n",
      "Epoch 53/100\n",
      "536/536 [==============================] - 2s 3ms/step - loss: 0.3687 - accuracy: 0.8438 - val_loss: 0.3876 - val_accuracy: 0.8243\n",
      "Epoch 54/100\n",
      "536/536 [==============================] - 1s 3ms/step - loss: 0.3669 - accuracy: 0.8444 - val_loss: 0.3866 - val_accuracy: 0.8285\n",
      "Epoch 55/100\n",
      "536/536 [==============================] - 1s 3ms/step - loss: 0.3655 - accuracy: 0.8459 - val_loss: 0.3855 - val_accuracy: 0.8296\n",
      "Epoch 56/100\n",
      "536/536 [==============================] - 1s 2ms/step - loss: 0.3642 - accuracy: 0.8462 - val_loss: 0.3841 - val_accuracy: 0.8307\n",
      "Epoch 57/100\n",
      "536/536 [==============================] - 1s 3ms/step - loss: 0.3629 - accuracy: 0.8477 - val_loss: 0.3829 - val_accuracy: 0.8307\n",
      "Epoch 58/100\n",
      "536/536 [==============================] - 1s 3ms/step - loss: 0.3616 - accuracy: 0.8468 - val_loss: 0.3821 - val_accuracy: 0.8315\n",
      "Epoch 59/100\n",
      "536/536 [==============================] - 1s 3ms/step - loss: 0.3603 - accuracy: 0.8489 - val_loss: 0.3812 - val_accuracy: 0.8304\n",
      "Epoch 60/100\n",
      "536/536 [==============================] - 1s 3ms/step - loss: 0.3592 - accuracy: 0.8500 - val_loss: 0.3801 - val_accuracy: 0.8304\n",
      "Epoch 61/100\n",
      "536/536 [==============================] - 1s 3ms/step - loss: 0.3579 - accuracy: 0.8496 - val_loss: 0.3794 - val_accuracy: 0.8300\n",
      "Epoch 62/100\n",
      "536/536 [==============================] - 1s 3ms/step - loss: 0.3567 - accuracy: 0.8517 - val_loss: 0.3789 - val_accuracy: 0.8307\n",
      "Epoch 63/100\n",
      "536/536 [==============================] - 1s 3ms/step - loss: 0.3560 - accuracy: 0.8513 - val_loss: 0.3781 - val_accuracy: 0.8315\n",
      "Epoch 64/100\n",
      "536/536 [==============================] - 2s 3ms/step - loss: 0.3551 - accuracy: 0.8505 - val_loss: 0.3774 - val_accuracy: 0.8319\n",
      "Epoch 65/100\n",
      "536/536 [==============================] - 2s 3ms/step - loss: 0.3542 - accuracy: 0.8503 - val_loss: 0.3768 - val_accuracy: 0.8326\n",
      "Epoch 66/100\n",
      "536/536 [==============================] - 2s 3ms/step - loss: 0.3533 - accuracy: 0.8531 - val_loss: 0.3762 - val_accuracy: 0.8334\n",
      "Epoch 67/100\n",
      "536/536 [==============================] - 2s 4ms/step - loss: 0.3522 - accuracy: 0.8541 - val_loss: 0.3760 - val_accuracy: 0.8349\n",
      "Epoch 68/100\n",
      "536/536 [==============================] - 2s 3ms/step - loss: 0.3517 - accuracy: 0.8531 - val_loss: 0.3751 - val_accuracy: 0.8357\n",
      "Epoch 69/100\n",
      "536/536 [==============================] - 2s 4ms/step - loss: 0.3508 - accuracy: 0.8546 - val_loss: 0.3743 - val_accuracy: 0.8383\n",
      "Epoch 70/100\n",
      "536/536 [==============================] - 2s 3ms/step - loss: 0.3498 - accuracy: 0.8550 - val_loss: 0.3736 - val_accuracy: 0.8391\n",
      "Epoch 71/100\n",
      "536/536 [==============================] - 2s 4ms/step - loss: 0.3491 - accuracy: 0.8556 - val_loss: 0.3731 - val_accuracy: 0.8398\n",
      "Epoch 72/100\n",
      "536/536 [==============================] - 2s 4ms/step - loss: 0.3482 - accuracy: 0.8559 - val_loss: 0.3725 - val_accuracy: 0.8383\n",
      "Epoch 73/100\n",
      "536/536 [==============================] - 2s 3ms/step - loss: 0.3475 - accuracy: 0.8558 - val_loss: 0.3721 - val_accuracy: 0.8368\n",
      "Epoch 74/100\n",
      "536/536 [==============================] - 1s 2ms/step - loss: 0.3470 - accuracy: 0.8546 - val_loss: 0.3712 - val_accuracy: 0.8391\n",
      "Epoch 75/100\n",
      "536/536 [==============================] - 2s 3ms/step - loss: 0.3462 - accuracy: 0.8561 - val_loss: 0.3707 - val_accuracy: 0.8402\n",
      "Epoch 76/100\n",
      "536/536 [==============================] - 1s 3ms/step - loss: 0.3455 - accuracy: 0.8559 - val_loss: 0.3703 - val_accuracy: 0.8383\n",
      "Epoch 77/100\n",
      "536/536 [==============================] - 1s 2ms/step - loss: 0.3450 - accuracy: 0.8569 - val_loss: 0.3697 - val_accuracy: 0.8398\n",
      "Epoch 78/100\n",
      "536/536 [==============================] - 2s 3ms/step - loss: 0.3442 - accuracy: 0.8565 - val_loss: 0.3692 - val_accuracy: 0.8398\n",
      "Epoch 79/100\n",
      "536/536 [==============================] - 1s 2ms/step - loss: 0.3437 - accuracy: 0.8565 - val_loss: 0.3685 - val_accuracy: 0.8413\n",
      "Epoch 80/100\n",
      "536/536 [==============================] - 1s 2ms/step - loss: 0.3432 - accuracy: 0.8572 - val_loss: 0.3679 - val_accuracy: 0.8421\n",
      "Epoch 81/100\n",
      "536/536 [==============================] - 1s 3ms/step - loss: 0.3426 - accuracy: 0.8571 - val_loss: 0.3675 - val_accuracy: 0.8410\n",
      "Epoch 82/100\n",
      "536/536 [==============================] - 1s 2ms/step - loss: 0.3420 - accuracy: 0.8563 - val_loss: 0.3672 - val_accuracy: 0.8421\n",
      "Epoch 83/100\n",
      "536/536 [==============================] - 1s 3ms/step - loss: 0.3415 - accuracy: 0.8582 - val_loss: 0.3669 - val_accuracy: 0.8429\n",
      "Epoch 84/100\n",
      "536/536 [==============================] - 1s 3ms/step - loss: 0.3409 - accuracy: 0.8582 - val_loss: 0.3666 - val_accuracy: 0.8436\n",
      "Epoch 85/100\n",
      "536/536 [==============================] - 1s 2ms/step - loss: 0.3405 - accuracy: 0.8576 - val_loss: 0.3662 - val_accuracy: 0.8448\n",
      "Epoch 86/100\n",
      "536/536 [==============================] - 1s 3ms/step - loss: 0.3398 - accuracy: 0.8563 - val_loss: 0.3662 - val_accuracy: 0.8440\n",
      "Epoch 87/100\n",
      "536/536 [==============================] - 1s 2ms/step - loss: 0.3394 - accuracy: 0.8569 - val_loss: 0.3654 - val_accuracy: 0.8455\n",
      "Epoch 88/100\n",
      "536/536 [==============================] - 1s 3ms/step - loss: 0.3387 - accuracy: 0.8584 - val_loss: 0.3652 - val_accuracy: 0.8451\n",
      "Epoch 89/100\n",
      "536/536 [==============================] - 1s 2ms/step - loss: 0.3383 - accuracy: 0.8576 - val_loss: 0.3646 - val_accuracy: 0.8459\n",
      "Epoch 90/100\n",
      "536/536 [==============================] - 1s 2ms/step - loss: 0.3377 - accuracy: 0.8584 - val_loss: 0.3648 - val_accuracy: 0.8448\n",
      "Epoch 91/100\n",
      "536/536 [==============================] - 2s 3ms/step - loss: 0.3376 - accuracy: 0.8578 - val_loss: 0.3641 - val_accuracy: 0.8455\n",
      "Epoch 92/100\n",
      "536/536 [==============================] - 1s 2ms/step - loss: 0.3372 - accuracy: 0.8582 - val_loss: 0.3638 - val_accuracy: 0.8463\n",
      "Epoch 93/100\n",
      "536/536 [==============================] - 1s 2ms/step - loss: 0.3369 - accuracy: 0.8586 - val_loss: 0.3637 - val_accuracy: 0.8463\n",
      "Epoch 94/100\n",
      "536/536 [==============================] - 1s 3ms/step - loss: 0.3364 - accuracy: 0.8597 - val_loss: 0.3635 - val_accuracy: 0.8463\n",
      "Epoch 95/100\n",
      "536/536 [==============================] - 1s 2ms/step - loss: 0.3364 - accuracy: 0.8584 - val_loss: 0.3632 - val_accuracy: 0.8478\n",
      "Epoch 96/100\n",
      "536/536 [==============================] - 1s 3ms/step - loss: 0.3359 - accuracy: 0.8587 - val_loss: 0.3630 - val_accuracy: 0.8474\n",
      "Epoch 97/100\n",
      "536/536 [==============================] - 1s 2ms/step - loss: 0.3357 - accuracy: 0.8587 - val_loss: 0.3627 - val_accuracy: 0.8474\n",
      "Epoch 98/100\n",
      "536/536 [==============================] - 1s 2ms/step - loss: 0.3353 - accuracy: 0.8591 - val_loss: 0.3625 - val_accuracy: 0.8466\n",
      "Epoch 99/100\n",
      "536/536 [==============================] - 1s 2ms/step - loss: 0.3350 - accuracy: 0.8584 - val_loss: 0.3622 - val_accuracy: 0.8474\n",
      "Epoch 100/100\n",
      "536/536 [==============================] - 1s 2ms/step - loss: 0.3347 - accuracy: 0.8593 - val_loss: 0.3619 - val_accuracy: 0.8485\n"
     ]
    }
   ],
   "source": [
    "# Fitting the ANN to the Training set\n",
    "model_history=classifier.fit(X_train, y_train,validation_split=0.33, batch_size = 10, epochs = 100)"
   ]
  },
  {
   "cell_type": "code",
   "execution_count": 21,
   "id": "3a8e87dd-db36-40f2-b203-636c211dae46",
   "metadata": {},
   "outputs": [
    {
     "name": "stdout",
     "output_type": "stream",
     "text": [
      "dict_keys(['loss', 'accuracy', 'val_loss', 'val_accuracy'])\n"
     ]
    },
    {
     "data": {
      "image/png": "[encoded data removed]",
      "text/plain": [
       "<Figure size 640x480 with 1 Axes>"
      ]
     },
     "metadata": {},
     "output_type": "display_data"
    }
   ],
   "source": [
    "# list all data in history\n",
    "\n",
    "print(model_history.history.keys())\n",
    "# summarize history for accuracy\n",
    "plt.plot(model_history.history['accuracy'])\n",
    "plt.plot(model_history.history['val_accuracy'])\n",
    "plt.title('model accuracy')\n",
    "plt.ylabel('accuracy')\n",
    "plt.xlabel('epoch')\n",
    "plt.legend(['train', 'test'], loc='upper left')\n",
    "plt.show()"
   ]
  },
  {
   "cell_type": "code",
   "execution_count": 22,
   "id": "a39fd89d-5732-4719-aa0a-07f29f5d5aa0",
   "metadata": {},
   "outputs": [
    {
     "data": {
      "image/png": "[encoded data removed]",
      "text/plain": [
       "<Figure size 640x480 with 1 Axes>"
      ]
     },
     "metadata": {},
     "output_type": "display_data"
    }
   ],
   "source": [
    "# summarize history for loss\n",
    "plt.plot(model_history.history['loss'])\n",
    "plt.plot(model_history.history['val_loss'])\n",
    "plt.title('model loss')\n",
    "plt.ylabel('loss')\n",
    "plt.xlabel('epoch')\n",
    "plt.legend(['train', 'test'], loc='upper left')\n",
    "plt.show()"
   ]
  },
  {
   "cell_type": "code",
   "execution_count": 24,
   "id": "a6ffee43-c12f-4970-860a-b19ecca7250e",
   "metadata": {},
   "outputs": [
    {
     "name": "stdout",
     "output_type": "stream",
     "text": [
      "63/63 [==============================] - 0s 1ms/step\n"
     ]
    },
    {
     "data": {
      "text/plain": [
       "array([[1527,   68],\n",
       "       [ 206,  199]], dtype=int64)"
      ]
     },
     "execution_count": 24,
     "metadata": {},
     "output_type": "execute_result"
    }
   ],
   "source": [
    "# Part 3 - Making the predictions and evaluating the model\n",
    "\n",
    "# Predicting the Test set results\n",
    "y_pred = classifier.predict(X_test)\n",
    "y_pred = (y_pred > 0.5)\n",
    "\n",
    "# Making the Confusion Matrix\n",
    "from sklearn.metrics import confusion_matrix\n",
    "cm = confusion_matrix(y_test, y_pred)\n",
    "cm"
   ]
  },
  {
   "cell_type": "code",
   "execution_count": 27,
   "id": "463513cd-b6e6-4e0d-9278-9dcc28f697dd",
   "metadata": {},
   "outputs": [
    {
     "data": {
      "text/plain": [
       "86.3"
      ]
     },
     "execution_count": 27,
     "metadata": {},
     "output_type": "execute_result"
    }
   ],
   "source": [
    "\n",
    "# Calculate the Accuracy\n",
    "from sklearn.metrics import accuracy_score\n",
    "score=accuracy_score(y_pred,y_test)\n",
    "score*100"
   ]
  },
  {
   "cell_type": "code",
   "execution_count": null,
   "id": "8966daa1-2380-41e0-a8fd-3602e9a497bd",
   "metadata": {},
   "outputs": [],
   "source": []
  }
 ],
 "metadata": {
  "kernelspec": {
   "display_name": "Python 3 (ipykernel)",
   "language": "python",
   "name": "python3"
  },
  "language_info": {
   "codemirror_mode": {
    "name": "ipython",
    "version": 3
   },
   "file_extension": ".py",
   "mimetype": "text/x-python",
   "name": "python",
   "nbconvert_exporter": "python",
   "pygments_lexer": "ipython3",
   "version": "3.11.5"
  }
 },
 "nbformat": 4,
 "nbformat_minor": 5
}
